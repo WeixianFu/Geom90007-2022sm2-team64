{
 "cells": [
  {
   "cell_type": "code",
   "execution_count": 21,
   "id": "41f42f32",
   "metadata": {
    "ExecuteTime": {
     "end_time": "2022-10-14T09:48:15.676095Z",
     "start_time": "2022-10-14T09:48:15.657422Z"
    }
   },
   "outputs": [],
   "source": [
    "SEARCH_URL = 'https://www.google.com.au/maps/search/'\n",
    "\n",
    "path = '//div/div[@id=\"QA0Szd\"]/div[@jstcache=\"0\"]/div[@class=\"XltNde tTVLSc\"]/div[@class=\"w6VYqd\"]/div[@class=\"bJzME tTVLSc\"]'\n",
    "path += '/div[@class=\"k7jAl lJ3Kh miFGmb\"]/div[@class=\"e07Vkf kA9KIf\"]/div[@class=\"aIFcqe\"]/div[@class=\"m6QErb WNBkOb\"]'\n",
    "path += '/div[@class=\"PPCwl\"]/div[@jsaction=\"pane.reviewChart.moreReviews\"]'\n",
    "path += '/div[@class=\"jANrlb\"]/div[@class=\"fontDisplayLarge\"]/text()'"
   ]
  },
  {
   "cell_type": "code",
   "execution_count": 22,
   "id": "04e65441",
   "metadata": {
    "ExecuteTime": {
     "end_time": "2022-10-14T09:48:16.874209Z",
     "start_time": "2022-10-14T09:48:16.861721Z"
    }
   },
   "outputs": [],
   "source": [
    "import pandas as pd\n",
    "df = pd.read_csv(\"Landmarks_and_places_of_interest__including_schools__theatres__health_services__sports_facilities__places_of_worship__galleries_and_museums..csv\")"
   ]
  },
  {
   "cell_type": "code",
   "execution_count": 23,
   "id": "c038e07a",
   "metadata": {
    "ExecuteTime": {
     "end_time": "2022-10-14T09:48:18.593296Z",
     "start_time": "2022-10-14T09:48:18.582191Z"
    }
   },
   "outputs": [],
   "source": [
    "new_df = df.head()\n",
    "# print(new_df.to_string)\n",
    "# for index, row in df.iterrows():\n",
    "#     print(row['venue_name'])"
   ]
  },
  {
   "cell_type": "code",
   "execution_count": 28,
   "id": "5f5c3384",
   "metadata": {
    "ExecuteTime": {
     "end_time": "2022-10-14T10:22:58.400349Z",
     "start_time": "2022-10-14T10:22:54.182610Z"
    }
   },
   "outputs": [
    {
     "name": "stderr",
     "output_type": "stream",
     "text": [
      "C:\\Users\\weixianf\\.conda\\envs\\CV\\lib\\site-packages\\ipykernel_launcher.py:4: DeprecationWarning: executable_path has been deprecated, please pass in a Service object\n",
      "  after removing the cwd from sys.path.\n"
     ]
    }
   ],
   "source": [
    "from selenium import webdriver\n",
    "from webdriver_manager.chrome import ChromeDriverManager\n",
    "from parsel import Selector\n",
    "driver = webdriver.Chrome(ChromeDriverManager().install())"
   ]
  },
  {
   "cell_type": "code",
   "execution_count": 31,
   "id": "5edc3fee",
   "metadata": {
    "ExecuteTime": {
     "end_time": "2022-10-14T10:42:06.229443Z",
     "start_time": "2022-10-14T10:24:57.234527Z"
    }
   },
   "outputs": [
    {
     "name": "stdout",
     "output_type": "stream",
     "text": [
      "Flemington Bridge Railway Station 3.0\n",
      "Council House 2 (CH2) 4.0\n",
      "The Melbourne Athenaeum Library 4.6\n",
      "Carlton Gardens South 0\n",
      "St Francis Church 0\n",
      "Wesley Church 4.4\n",
      "St Augustines Church 0\n",
      "St James Church 0\n",
      "St Mary's Anglican Church 0\n",
      "Romanian Orthodox 0\n",
      "Welsh Presbyterian Church 0\n",
      "Church of Christ 0\n",
      "Scots Church 0\n",
      "St Michael's Uniting Church 4.5\n",
      "Greek Orthodox Church 0\n",
      "St Peter's Eastern Hill 4.5\n",
      "Lutheran Trinity Church 4.7\n",
      "Holy Trinity 0\n",
      "St Johns Lutheran Church 0\n",
      "North Melbourne Uniting 0\n",
      "Melbourne Unitarian Church 4.4\n",
      "All Nations Uniting Church 4.5\n",
      "Our Lady of Lebanon Church 4.8\n",
      "St Michaels 0\n",
      "Ukranian Catholic Cathedral 0\n",
      "St Alban Anglican Church 0\n",
      "Christ Church Kensington 5.0\n",
      "Holy Rosary 0\n",
      "Collins Street Baptist Church 4.4\n",
      "St Thomas Aquinas Church 0\n",
      "South Yarra Presbyterian Church 5.0\n",
      "The Parish of Christ Church South Yarra 4.4\n",
      "Melbourne Private Hospital 0\n",
      "East Melbourne Synagogue 4.8\n",
      "Victoria Police 0\n",
      "Victoria Police 0\n",
      "Victoria Police 0\n",
      "Melbourne Visitor Booth 3.9\n",
      "State Netball Hockey Centre 4.2\n",
      "University Square 0\n",
      "Port of Melbourne 0\n",
      "Royal Park Golf Course 4.3\n",
      "Powlett Reserve 0\n",
      "Melbourne General Cemetery 4.5\n",
      "Carlton Football Club 0\n",
      "Visy Park 4.2\n",
      "Queen Victoria Market 4.5\n",
      "Carlton Gardens Primary School 0\n",
      "Carlton Primary School 0\n",
      "Carlton Gardens North 0\n",
      "Old Melbourne Gaol Crime & Justice Experience 4.5\n",
      "Kings Domain 0\n",
      "Melbourne Grammar School 0\n",
      "Wesley College 0\n",
      "FairFax Studio 4.7\n",
      "Playhouse 0\n",
      "State Theatre 0\n",
      "University of Melbourne (VCA and Music) 0\n",
      "St Martins Youth Arts Centre 3.8\n",
      "Flemington Racecourse 4.4\n",
      "Southern Cross Railway Station 4.1\n",
      "Princess Theatre 4.6\n",
      "Treasury Gardens 4.6\n",
      "University High School 3.3\n",
      "State Library Victoria 4.7\n",
      "Regent Theatre 4.7\n",
      "Treasury Reserve 0\n",
      "Old Treasury Building 4.5\n",
      "Epworth Freemasons Hospital : Medical Centre 0\n",
      "Batman Park 4.3\n",
      "Australian Red Cross 0\n",
      "Melbourne Magistrates Court 2.9\n",
      "Flagstaff Railway Station 4.2\n",
      "Supreme Court 0\n",
      "Richmond Football Club 0\n",
      "Melbourne Cricket Ground (MCG) 4.7\n",
      "Melbourne Zoo 4.4\n",
      "Australian Broadcasting Corporation (ABC) 4.3\n",
      "Melbourne Exhibition Centre 4.5\n",
      "Melbourne Convention Centre 0\n",
      "Polly Woodside 4.3\n",
      "Melbourne International Karting Complex 4.5\n",
      "Melbourne International Shooting Club 4.3\n",
      "Southgate Arts and Leisure Precinct 0\n",
      "Australian Centre for Contemporary Art 4.2\n",
      "Malthouse Theatre 4.5\n",
      "St Patricks Cathedral 4.7\n",
      "Victorian Arts Centre 4.7\n",
      "Parliament House 0\n",
      "Melbourne Town Hall 4.5\n",
      "Former Royal Mint 0\n",
      "DFO South Wharf 4.2\n",
      "Queen Victoria Gardens 4.6\n",
      "Sidney Myer Music Bowl 4.6\n",
      "Crown Entertainment Complex 4.4\n",
      "The Royal Victorian Eye & Ear Hospital 2.8\n",
      "SBS (Special Broadcasting Service) 4.4\n",
      "The Ian Potter Centre: NGV Australia 4.6\n",
      "Federation Square 4.5\n",
      "Thoroughbred Racing Gallery 0\n",
      "New Quay 0\n",
      "Central City Studios 0\n",
      "Channel 7 - Melbourne Broadcast Centre 0\n",
      "Docklands Park 4.4\n",
      "Waterfront City 0\n",
      "Harbour Town 0\n",
      "AAMI Park 4.5\n",
      "New Quay Marina 0\n",
      "Central Pier 0\n",
      "Melbourne Star Observation Wheel 0\n",
      "Point Park 0\n",
      "Kensington Primary School 3.9\n",
      "Newmarket Reserve 0\n",
      "Royal Womens Hospital 3.7\n",
      "Kangan Batman Tafe 2.8\n",
      "Fox Classic Car Collection 4.4\n",
      "The Mission To Seafarers Victoria 4.6\n"
     ]
    },
    {
     "ename": "TimeoutException",
     "evalue": "Message: timeout: Timed out receiving message from renderer: 300.000\n  (Session info: chrome=106.0.5249.103)\nStacktrace:\nBacktrace:\n\tOrdinal0 [0x00F31ED3+2236115]\n\tOrdinal0 [0x00EC92F1+1807089]\n\tOrdinal0 [0x00DD66FD+812797]\n\tOrdinal0 [0x00DC9449+758857]\n\tOrdinal0 [0x00DC92C1+758465]\n\tOrdinal0 [0x00DC8113+753939]\n\tOrdinal0 [0x00DC8748+755528]\n\tOrdinal0 [0x00DD15D2+792018]\n\tOrdinal0 [0x00DDCB15+838421]\n\tOrdinal0 [0x00DDFEB0+851632]\n\tOrdinal0 [0x00DC8ADC+756444]\n\tOrdinal0 [0x00DDC94F+837967]\n\tOrdinal0 [0x00E3590A+1202442]\n\tOrdinal0 [0x00E218A6+1120422]\n\tOrdinal0 [0x00DFA73D+960317]\n\tOrdinal0 [0x00DFB71F+964383]\n\tGetHandleVerifier [0x011DE7E2+2743074]\n\tGetHandleVerifier [0x011D08D4+2685972]\n\tGetHandleVerifier [0x00FC2BAA+532202]\n\tGetHandleVerifier [0x00FC1990+527568]\n\tOrdinal0 [0x00ED080C+1837068]\n\tOrdinal0 [0x00ED4CD8+1854680]\n\tOrdinal0 [0x00ED4DC5+1854917]\n\tOrdinal0 [0x00EDED64+1895780]\n\tBaseThreadInitThunk [0x763BFA29+25]\n\tRtlGetAppContainerNamedObjectPath [0x771D7BBE+286]\n\tRtlGetAppContainerNamedObjectPath [0x771D7B8E+238]\n",
     "output_type": "error",
     "traceback": [
      "\u001b[1;31m---------------------------------------------------------------------------\u001b[0m",
      "\u001b[1;31mTimeoutException\u001b[0m                          Traceback (most recent call last)",
      "\u001b[1;32m~\\AppData\\Local\\Temp\\ipykernel_18532\\4253617965.py\u001b[0m in \u001b[0;36m<module>\u001b[1;34m\u001b[0m\n\u001b[0;32m      7\u001b[0m     \u001b[0murl\u001b[0m \u001b[1;33m=\u001b[0m \u001b[0mSEARCH_URL\u001b[0m \u001b[1;33m+\u001b[0m \u001b[0mrow\u001b[0m\u001b[1;33m[\u001b[0m\u001b[1;34m'Feature Name'\u001b[0m\u001b[1;33m]\u001b[0m\u001b[1;33m\u001b[0m\u001b[1;33m\u001b[0m\u001b[0m\n\u001b[0;32m      8\u001b[0m     \u001b[0mdriver\u001b[0m\u001b[1;33m.\u001b[0m\u001b[0mget\u001b[0m\u001b[1;33m(\u001b[0m\u001b[0murl\u001b[0m\u001b[1;33m)\u001b[0m\u001b[1;33m\u001b[0m\u001b[1;33m\u001b[0m\u001b[0m\n\u001b[1;32m----> 9\u001b[1;33m     \u001b[0mpage_content\u001b[0m \u001b[1;33m=\u001b[0m \u001b[0mdriver\u001b[0m\u001b[1;33m.\u001b[0m\u001b[0mpage_source\u001b[0m\u001b[1;33m\u001b[0m\u001b[1;33m\u001b[0m\u001b[0m\n\u001b[0m\u001b[0;32m     10\u001b[0m     \u001b[0mresponse\u001b[0m \u001b[1;33m=\u001b[0m \u001b[0mSelector\u001b[0m\u001b[1;33m(\u001b[0m\u001b[0mpage_content\u001b[0m\u001b[1;33m)\u001b[0m\u001b[1;33m\u001b[0m\u001b[1;33m\u001b[0m\u001b[0m\n\u001b[0;32m     11\u001b[0m     \u001b[0mel\u001b[0m \u001b[1;33m=\u001b[0m \u001b[0mresponse\u001b[0m\u001b[1;33m.\u001b[0m\u001b[0mxpath\u001b[0m\u001b[1;33m(\u001b[0m\u001b[0mpath\u001b[0m\u001b[1;33m)\u001b[0m\u001b[1;33m.\u001b[0m\u001b[0mgetall\u001b[0m\u001b[1;33m(\u001b[0m\u001b[1;33m)\u001b[0m\u001b[1;33m\u001b[0m\u001b[1;33m\u001b[0m\u001b[0m\n",
      "\u001b[1;32m~\\.conda\\envs\\CV\\lib\\site-packages\\selenium\\webdriver\\remote\\webdriver.py\u001b[0m in \u001b[0;36mpage_source\u001b[1;34m(self)\u001b[0m\n\u001b[0;32m    538\u001b[0m                 \u001b[0mdriver\u001b[0m\u001b[1;33m.\u001b[0m\u001b[0mpage_source\u001b[0m\u001b[1;33m\u001b[0m\u001b[1;33m\u001b[0m\u001b[0m\n\u001b[0;32m    539\u001b[0m         \"\"\"\n\u001b[1;32m--> 540\u001b[1;33m         \u001b[1;32mreturn\u001b[0m \u001b[0mself\u001b[0m\u001b[1;33m.\u001b[0m\u001b[0mexecute\u001b[0m\u001b[1;33m(\u001b[0m\u001b[0mCommand\u001b[0m\u001b[1;33m.\u001b[0m\u001b[0mGET_PAGE_SOURCE\u001b[0m\u001b[1;33m)\u001b[0m\u001b[1;33m[\u001b[0m\u001b[1;34m'value'\u001b[0m\u001b[1;33m]\u001b[0m\u001b[1;33m\u001b[0m\u001b[1;33m\u001b[0m\u001b[0m\n\u001b[0m\u001b[0;32m    541\u001b[0m \u001b[1;33m\u001b[0m\u001b[0m\n\u001b[0;32m    542\u001b[0m     \u001b[1;32mdef\u001b[0m \u001b[0mclose\u001b[0m\u001b[1;33m(\u001b[0m\u001b[0mself\u001b[0m\u001b[1;33m)\u001b[0m \u001b[1;33m->\u001b[0m \u001b[1;32mNone\u001b[0m\u001b[1;33m:\u001b[0m\u001b[1;33m\u001b[0m\u001b[1;33m\u001b[0m\u001b[0m\n",
      "\u001b[1;32m~\\.conda\\envs\\CV\\lib\\site-packages\\selenium\\webdriver\\remote\\webdriver.py\u001b[0m in \u001b[0;36mexecute\u001b[1;34m(self, driver_command, params)\u001b[0m\n\u001b[0;32m    427\u001b[0m         \u001b[0mresponse\u001b[0m \u001b[1;33m=\u001b[0m \u001b[0mself\u001b[0m\u001b[1;33m.\u001b[0m\u001b[0mcommand_executor\u001b[0m\u001b[1;33m.\u001b[0m\u001b[0mexecute\u001b[0m\u001b[1;33m(\u001b[0m\u001b[0mdriver_command\u001b[0m\u001b[1;33m,\u001b[0m \u001b[0mparams\u001b[0m\u001b[1;33m)\u001b[0m\u001b[1;33m\u001b[0m\u001b[1;33m\u001b[0m\u001b[0m\n\u001b[0;32m    428\u001b[0m         \u001b[1;32mif\u001b[0m \u001b[0mresponse\u001b[0m\u001b[1;33m:\u001b[0m\u001b[1;33m\u001b[0m\u001b[1;33m\u001b[0m\u001b[0m\n\u001b[1;32m--> 429\u001b[1;33m             \u001b[0mself\u001b[0m\u001b[1;33m.\u001b[0m\u001b[0merror_handler\u001b[0m\u001b[1;33m.\u001b[0m\u001b[0mcheck_response\u001b[0m\u001b[1;33m(\u001b[0m\u001b[0mresponse\u001b[0m\u001b[1;33m)\u001b[0m\u001b[1;33m\u001b[0m\u001b[1;33m\u001b[0m\u001b[0m\n\u001b[0m\u001b[0;32m    430\u001b[0m             response['value'] = self._unwrap_value(\n\u001b[0;32m    431\u001b[0m                 response.get('value', None))\n",
      "\u001b[1;32m~\\.conda\\envs\\CV\\lib\\site-packages\\selenium\\webdriver\\remote\\errorhandler.py\u001b[0m in \u001b[0;36mcheck_response\u001b[1;34m(self, response)\u001b[0m\n\u001b[0;32m    241\u001b[0m                 \u001b[0malert_text\u001b[0m \u001b[1;33m=\u001b[0m \u001b[0mvalue\u001b[0m\u001b[1;33m[\u001b[0m\u001b[1;34m'alert'\u001b[0m\u001b[1;33m]\u001b[0m\u001b[1;33m.\u001b[0m\u001b[0mget\u001b[0m\u001b[1;33m(\u001b[0m\u001b[1;34m'text'\u001b[0m\u001b[1;33m)\u001b[0m\u001b[1;33m\u001b[0m\u001b[1;33m\u001b[0m\u001b[0m\n\u001b[0;32m    242\u001b[0m             \u001b[1;32mraise\u001b[0m \u001b[0mexception_class\u001b[0m\u001b[1;33m(\u001b[0m\u001b[0mmessage\u001b[0m\u001b[1;33m,\u001b[0m \u001b[0mscreen\u001b[0m\u001b[1;33m,\u001b[0m \u001b[0mstacktrace\u001b[0m\u001b[1;33m,\u001b[0m \u001b[0malert_text\u001b[0m\u001b[1;33m)\u001b[0m  \u001b[1;31m# type: ignore[call-arg]  # mypy is not smart enough here\u001b[0m\u001b[1;33m\u001b[0m\u001b[1;33m\u001b[0m\u001b[0m\n\u001b[1;32m--> 243\u001b[1;33m         \u001b[1;32mraise\u001b[0m \u001b[0mexception_class\u001b[0m\u001b[1;33m(\u001b[0m\u001b[0mmessage\u001b[0m\u001b[1;33m,\u001b[0m \u001b[0mscreen\u001b[0m\u001b[1;33m,\u001b[0m \u001b[0mstacktrace\u001b[0m\u001b[1;33m)\u001b[0m\u001b[1;33m\u001b[0m\u001b[1;33m\u001b[0m\u001b[0m\n\u001b[0m",
      "\u001b[1;31mTimeoutException\u001b[0m: Message: timeout: Timed out receiving message from renderer: 300.000\n  (Session info: chrome=106.0.5249.103)\nStacktrace:\nBacktrace:\n\tOrdinal0 [0x00F31ED3+2236115]\n\tOrdinal0 [0x00EC92F1+1807089]\n\tOrdinal0 [0x00DD66FD+812797]\n\tOrdinal0 [0x00DC9449+758857]\n\tOrdinal0 [0x00DC92C1+758465]\n\tOrdinal0 [0x00DC8113+753939]\n\tOrdinal0 [0x00DC8748+755528]\n\tOrdinal0 [0x00DD15D2+792018]\n\tOrdinal0 [0x00DDCB15+838421]\n\tOrdinal0 [0x00DDFEB0+851632]\n\tOrdinal0 [0x00DC8ADC+756444]\n\tOrdinal0 [0x00DDC94F+837967]\n\tOrdinal0 [0x00E3590A+1202442]\n\tOrdinal0 [0x00E218A6+1120422]\n\tOrdinal0 [0x00DFA73D+960317]\n\tOrdinal0 [0x00DFB71F+964383]\n\tGetHandleVerifier [0x011DE7E2+2743074]\n\tGetHandleVerifier [0x011D08D4+2685972]\n\tGetHandleVerifier [0x00FC2BAA+532202]\n\tGetHandleVerifier [0x00FC1990+527568]\n\tOrdinal0 [0x00ED080C+1837068]\n\tOrdinal0 [0x00ED4CD8+1854680]\n\tOrdinal0 [0x00ED4DC5+1854917]\n\tOrdinal0 [0x00EDED64+1895780]\n\tBaseThreadInitThunk [0x763BFA29+25]\n\tRtlGetAppContainerNamedObjectPath [0x771D7BBE+286]\n\tRtlGetAppContainerNamedObjectPath [0x771D7B8E+238]\n"
     ]
    }
   ],
   "source": [
    "# Feature Name\n",
    "# score = []\n",
    "# ct = 105\n",
    "# a = 0\n",
    "for index, row in df.iterrows():\n",
    "    ts = 0\n",
    "    url = SEARCH_URL + row['Feature Name']\n",
    "    driver.get(url)\n",
    "    page_content = driver.page_source\n",
    "    response = Selector(page_content)\n",
    "    el = response.xpath(path).getall()\n",
    "    if el != []:\n",
    "        [ts] = el\n",
    "    score.append(ts)\n",
    "    print(row['Feature Name'], score[-1])    "
   ]
  },
  {
   "cell_type": "code",
   "execution_count": 32,
   "id": "81fe215a",
   "metadata": {
    "ExecuteTime": {
     "end_time": "2022-10-14T10:52:40.673036Z",
     "start_time": "2022-10-14T10:52:40.655529Z"
    }
   },
   "outputs": [
    {
     "name": "stdout",
     "output_type": "stream",
     "text": [
      "245\n"
     ]
    }
   ],
   "source": []
  },
  {
   "cell_type": "code",
   "execution_count": 33,
   "id": "99064a83",
   "metadata": {
    "ExecuteTime": {
     "end_time": "2022-10-14T10:52:57.442207Z",
     "start_time": "2022-10-14T10:52:57.435670Z"
    }
   },
   "outputs": [
    {
     "name": "stdout",
     "output_type": "stream",
     "text": [
      "(242, 4)\n"
     ]
    }
   ],
   "source": [
    "print(df.shape)"
   ]
  },
  {
   "cell_type": "code",
   "execution_count": 19,
   "id": "c1ec83b8",
   "metadata": {
    "ExecuteTime": {
     "end_time": "2022-10-14T09:47:11.179373Z",
     "start_time": "2022-10-14T09:47:08.948668Z"
    }
   },
   "outputs": [
    {
     "name": "stdout",
     "output_type": "stream",
     "text": [
      "<div jsaction=\"pane.reviewChart.moreReviews\" jstcache=\"571\" class=\"Bd93Zb\" style=\"cursor:pointer\" jsan=\"7.Bd93Zb,5.cursor,0.jsaction\"> <div class=\"ExlQHd\"> <table jstcache=\"572\"> <tbody><tr aria-label=\"5 stars, 65 reviews\" jstcache=\"580\" role=\"img\" class=\"BHOKXe\"> <td role=\"presentation\" jstcache=\"586\" class=\"yxmtmf fontBodyMedium\" jsan=\"7.yxmtmf,7.fontBodyMedium,0.role\">5</td> <td role=\"presentation\" class=\"ZVa0Ic\"> <div class=\"XINzN\"> <div jstcache=\"587\" class=\"oxIpGd\" style=\"padding-left:100%\" jsan=\"7.oxIpGd,5.padding-left\"></div> </div> </td> </tr> <tr aria-label=\"4 stars, 30 reviews\" jstcache=\"581\" role=\"img\" class=\"BHOKXe\"> <td role=\"presentation\" jstcache=\"586\" class=\"yxmtmf fontBodyMedium\" jsan=\"7.yxmtmf,7.fontBodyMedium,0.role\">4</td> <td role=\"presentation\" class=\"ZVa0Ic\"> <div class=\"XINzN\"> <div jstcache=\"587\" class=\"oxIpGd\" style=\"padding-left:46.15384615384615%\" jsan=\"7.oxIpGd,5.padding-left\"></div> </div> </td> </tr> <tr aria-label=\"3 stars, 9 reviews\" jstcache=\"582\" role=\"img\" class=\"BHOKXe\"> <td role=\"presentation\" jstcache=\"586\" class=\"yxmtmf fontBodyMedium\" jsan=\"7.yxmtmf,7.fontBodyMedium,0.role\">3</td> <td role=\"presentation\" class=\"ZVa0Ic\"> <div class=\"XINzN\"> <div jstcache=\"587\" class=\"oxIpGd\" style=\"padding-left:13.846153846153847%\" jsan=\"7.oxIpGd,5.padding-left\"></div> </div> </td> </tr> <tr aria-label=\"2 stars, 14 reviews\" jstcache=\"583\" role=\"img\" class=\"BHOKXe\"> <td role=\"presentation\" jstcache=\"586\" class=\"yxmtmf fontBodyMedium\" jsan=\"7.yxmtmf,7.fontBodyMedium,0.role\">2</td> <td role=\"presentation\" class=\"ZVa0Ic\"> <div class=\"XINzN\"> <div jstcache=\"587\" class=\"oxIpGd\" style=\"padding-left:21.53846153846154%\" jsan=\"7.oxIpGd,5.padding-left\"></div> </div> </td> </tr> <tr aria-label=\"1 stars, 16 reviews\" jstcache=\"584\" role=\"img\" class=\"BHOKXe\"> <td role=\"presentation\" jstcache=\"586\" class=\"yxmtmf fontBodyMedium\" jsan=\"7.yxmtmf,7.fontBodyMedium,0.role\">1</td> <td role=\"presentation\" class=\"ZVa0Ic\"> <div class=\"XINzN\"> <div jstcache=\"587\" class=\"oxIpGd\" style=\"padding-left:24.615384615384617%\" jsan=\"7.oxIpGd,5.padding-left\"></div> </div> </td> </tr> </tbody></table> </div> <div class=\"jANrlb\"> <div jstcache=\"573\" class=\"fontDisplayLarge\" jsan=\"7.fontDisplayLarge\">3.9</div> <span jstcache=\"574\" class=\"YTkVxc ikjxab\" jsan=\"7.YTkVxc,7.ikjxab,t-MKhZtyt4dB8\"><ol aria-label=\" 3.9 stars \" role=\"img\" jstcache=\"591\"><li jstcache=\"592\" jsinstance=\"0\" class=\"qxPNJf\"><li jstcache=\"592\" jsinstance=\"1\" class=\"qxPNJf\"><li jstcache=\"592\" jsinstance=\"2\" class=\"qxPNJf\"><li jstcache=\"592\" jsinstance=\"*3\" class=\"qxPNJf\"><li jstcache=\"593\" style=\"display:none\"><li jstcache=\"594\" jsinstance=\"*0\" class=\"qxPNJf FUbCHd\"></ol></span> <button jslog=\"18519;track:click;metadata:WyIwYWhVS0V3ajJ6cS1UdU5fNkFoVVRBcmNBSGNFV0Flb1E2VzRJRXlnQiJd\" jstcache=\"575\" jsaction=\"pane.reviewChart.moreReviews\" class=\"HHrUdb fontTitleSmall rqjGif\" jsan=\"7.HHrUdb,7.fontTitleSmall,7.rqjGif,0.jslog,22.jsaction\">134 reviews</button> <div jstcache=\"576\" style=\"display:none\"></div> </div> </div>\n",
      "d\n"
     ]
    }
   ],
   "source": [
    "url = 'https://www.google.com.au/maps/search/'\n",
    "url += \"Vodka Temple\"\n",
    "driver.get(url)\n",
    "page_content = driver.page_source\n",
    "response = Selector(page_content)\n",
    "path = '//div/div[@id=\"QA0Szd\"]/div[@jstcache=\"0\"]/div[@class=\"XltNde tTVLSc\"]/div[@class=\"w6VYqd\"]/div[@class=\"bJzME tTVLSc\"]'\n",
    "path += '/div[@class=\"k7jAl lJ3Kh miFGmb\"]/div[@class=\"e07Vkf kA9KIf\"]/div[@class=\"aIFcqe\"]/div[@class=\"m6QErb WNBkOb\"]'\n",
    "path += '/div[@class=\"PPCwl\"]/div[@jsaction=\"pane.reviewChart.moreReviews\"]'\n",
    "# path += '/div[@class=\"jANrlb\"]/div[@class=\"fontDisplayLarge\"]/text()'\n",
    "el = response.xpath(path).get()\n",
    "print(el)\n",
    "print(el[1])"
   ]
  },
  {
   "cell_type": "code",
   "execution_count": 6,
   "id": "fd08d40a",
   "metadata": {
    "ExecuteTime": {
     "end_time": "2022-10-12T08:15:13.207062Z",
     "start_time": "2022-10-12T07:51:10.266924Z"
    }
   },
   "outputs": [
    {
     "name": "stdout",
     "output_type": "stream",
     "text": [
      "Alumbra 5.0\n",
      "Sofitel Melbourne On Collins 4.5\n",
      "Bar Nacional 4.0\n",
      "Bomba Tapas Bar and Rooftop 4.4\n",
      "Melbourne Museum 4.6\n",
      "Fad Gallery 4.4\n",
      "Penny Blue 4.3\n",
      "Club 23, Crown Melbourne 0\n",
      "Aria Bar & Lounge 3.3\n",
      "Festival Hall 4.0\n",
      "Vodka Temple 3.9\n",
      "Union Electric 4.6\n",
      "Three Crowns Hotel 4.5\n",
      "Charlie's Bar 3.8\n",
      "Troika Bar 4.6\n",
      "Live Performance Australia 3.5\n",
      "Queen Victoria Market 4.5\n",
      "Platform One 3.0\n",
      "Mesa Verde 4.4\n",
      "Seamstress Restaurant and Bar 4.4\n",
      "European Bier Café 4.1\n",
      "Arbory Bar and Eatery 4.3\n",
      "Touche Hombre 0\n",
      "Paris Cat Jazz Club 4.7\n",
      "Clique Bar 3.6\n",
      "Bass Lounge 4.2\n",
      "The Black Rabbit 4.2\n",
      "Man Tong Kitchen 3.3\n",
      "Randy Dragon 0\n",
      "Regent Theatre 4.7\n",
      "Therapy Nightclub  at Crown 2.3\n",
      "The Last Chance Rock & Roll Bar 4.5\n",
      "AIM (Australian Institute of Music) 3.6\n",
      "The Australian Club 4.6\n",
      "St Michael's Uniting Church 4.5\n",
      "The Kelvin Club 4.5\n",
      "QV Melbourne 4.3\n",
      "Angel Music Bar 4.4\n",
      "The Athenaeum 0\n",
      "San Marco Social Club 4.8\n",
      "The Comedy Theatre 4.5\n",
      "Turf Bar 4.1\n",
      "The Leveson 4.3\n",
      "Cherry Bar 4.4\n",
      "Campari House 4.1\n",
      "University of Melbourne 4.5\n",
      "The Elephant and Wheelbarrow 4.0\n",
      "Chaise Lounge 3.9\n",
      "Victorian Arts Centre Trust 4.7\n",
      "Eden Bar 0\n",
      "Lustre Bar 4.2\n",
      "RACV City Club 4.4\n",
      "Section 8 Bar 4.4\n",
      "Roxanne Bar 0\n",
      "Athenaeum Theatre 4.3\n",
      "The Palms At Crown 4.4\n",
      "The Bodega 0\n",
      "Max Bar and Restaurant 4.2\n",
      "Abbey Road Institute 0\n",
      "Blue Diamond 0\n",
      "Pan Pacific Melbourne 4.4\n",
      "Lion Hotel at Melbourne Central 4.0\n",
      "The Drunken Poet 4.6\n",
      "Urban Central Backpackers 0\n",
      "Bond Lounge Bar 3.1\n",
      "Workshop 0\n",
      "Carlton Yacht Club 4.4\n",
      "Melbourne Town Hall 4.5\n",
      "Mercury Lounge 0\n",
      "Crown Casino 0\n",
      "The Forum Theatre 4.8\n",
      "The Bottom End 4.1\n",
      "Marrakech Bar 3.6\n",
      "Eau de Vie 4.7\n",
      "Velvet Bar 3.9\n",
      "Inflation Nightclub/Top Yard Rooftop Bar 4.0\n",
      "The Langham 4.4\n",
      "Duke Of Kent Hotel 0\n",
      "The Shaw Davey Slum 4.1\n",
      "Victoria Star Cruises 4.2\n",
      "The Botanical 3.8\n",
      "City Library 0\n",
      "Euro House 0\n",
      "Polepole Bar 4.3\n",
      "Level 3 at Crown 3.1\n",
      "Fiftyfive 4.5\n",
      "GoGo Bar 4.3\n",
      "Spleen Central 4.3\n",
      "Asian Beer Café 4.0\n",
      "Flinders Station Hotel Backpackers 3.9\n",
      "Town Hall Hotel 0\n",
      "Sticky Institute 4.3\n",
      "Watermark Docklands 4.1\n",
      "New Guernica 3.9\n",
      "Basement Discs 4.2\n",
      "Loop Project Space & Bar 4.4\n",
      "Capitano 4.5\n",
      "Federation Square 4.5\n",
      "The Woolshed 5.0\n",
      "Horse Bazaar 0\n",
      "Witches In Britches 4.4\n",
      "CQ Melbourne 3.4\n",
      "Colour Nightclub 4.5\n",
      "Testing Grounds 4.6\n",
      "Trapt Bar and Escape Rooms 4.4\n",
      "Hopscotch Urban Beer Bar 4.2\n",
      "East Melbourne Library 4.7\n",
      "Highlander Bar 0\n",
      "The Red Hummingbird 3.9\n",
      "Good Heavens 4.2\n",
      "Berlin Bar 4.5\n",
      "Her Majesty's Theatre 4.6\n",
      "InterContinental Melbourne The Rialto 4.4\n",
      "Whitehart Bar 4.4\n",
      "Boney 0\n",
      "Magic Mountain Saloon 4.4\n",
      "AAMI Park 4.5\n",
      "Munich Brauhaus 4.1\n",
      "Robot Bar 4.4\n",
      "Australian Centre for the Moving Image (ACMI) 4.7\n",
      "Sheraton Hotel Melbourne 4.2\n",
      "P.J. O'Brien's 4.4\n",
      "Wonderland Under the Melbourne Star 0\n",
      "The Lui Bar 4.4\n",
      "Belgian Beer Cafe Melbourne 4.3\n",
      "Golden Monkey 4.3\n",
      "Café Segovia 4.2\n",
      "Curtin House 4.4\n",
      "The Mill House Bar 0\n",
      "La Di Da 3.9\n",
      "Harley House 0\n",
      "White Rabbit Record Bar 4.6\n",
      "The Sub Club 4.0\n",
      "Union House Theatre University of Melbourne 4.1\n",
      "Max Watt's 4.5\n",
      "Church of All Nations 4.5\n",
      "The Emerald Peacock 4.2\n",
      "The Croft Institute 0\n",
      "Baroq House 3.5\n",
      "The General Assembly 4.2\n",
      "Coopers Inn 4.2\n",
      "XE54 Nightclub 3.1\n",
      "Arts Centre Melbourne 4.7\n",
      "Dan O'Connell Hotel 0\n",
      "National Gallery of Victoria 0\n",
      "Exford Hotel 4.1\n",
      "Insignia On Flinders 4.4\n",
      "Immigration Museum 4.4\n",
      "Hardimans Hotel 4.2\n",
      "Park Hyatt Melbourne 4.6\n",
      "New Market Studios 4.7\n",
      "Sea Life Melbourne Aquarium 4.3\n",
      "Club Voltaire 4.5\n",
      "The Butterfly Club 4.7\n",
      "Colonial Hotel/Brown Alley Night Club 3.8\n",
      "RMIT University 4.0\n",
      "Trades Hall 3.8\n",
      "Bird's Basement 4.4\n",
      "The Royal Melbourne Hotel 4.0\n",
      "The Curtin 4.5\n",
      "The Plenary Hall 4.5\n",
      "Club Retro 3.8\n",
      "Riverland Bar 4.3\n",
      "Disco Bar 0\n",
      "Mr Tod 4.0\n",
      "Ormond Hall 0\n",
      "Margaret Court Arena 4.4\n",
      "Waterside Hotel 0\n",
      "Victoria University 0\n",
      "Library at The Dock 4.7\n",
      "Ms Collins 3.5\n",
      "Sidney Myer Music Bowl 4.6\n",
      "The Barre 3.6\n",
      "Co. 0\n",
      "Young & Jackson 4.2\n",
      "All Nations Backpackers Bar/Ubar 3.7\n",
      "Spaghetti Tree Restaurant 4.2\n",
      "RMIT Student Union (RMIT Village) 0\n",
      "Groove Live Bar and Terrace 4.3\n",
      "The Wharf Hotel 4.1\n",
      "Cookie 4.3\n",
      "401 The Order 0\n",
      "Off The Hip Records 4.4\n",
      "Fabrique Bar 0\n",
      "The Charles Dickens Tavern 4.3\n",
      "Spice Market 4.1\n",
      "Sokol Melbourne 4.8\n",
      "fortyfive downstairs 4.6\n",
      "Speakeasy HQ 4.1\n",
      "The Comic's Lounge 4.6\n",
      "Garden State Hotel 4.0\n",
      "170 Russell/Billboard Nightclub 4.4\n",
      "Melbourne Public 4.2\n",
      "Meat Market Art Centre 4.5\n",
      "Alexandra Gardens 0\n",
      "Clyde Hotel 4.4\n",
      "The Carlton 4.0\n",
      "Tramp Bar 3.6\n",
      "Southbank Library at Boyd 4.5\n",
      "Melbourne Savage Club 4.9\n",
      "Khokolat Bar 3.5\n",
      "Father's Office 4.0\n",
      "Manchuria 4.5\n",
      "The Irish Times Pub 4.3\n",
      "El Coco 0\n",
      "Transit Rooftop Bar 4.2\n",
      "Building 8 0\n",
      "The Toff in Town 4.3\n",
      "Vamos 4.2\n",
      "Left Bank Melbourne 4.1\n",
      "The Princess Theatre 4.6\n",
      "Shed 14/Peninsula 0\n",
      "Melbourne Recital Centre 4.8\n",
      "Royal Standard Hotel 4.6\n",
      "Melbourne Zoo 4.4\n",
      "The Crafty Squire 4.2\n",
      "Gin Palace 4.5\n",
      "Kathleen Syme Library and Community Centre 4.6\n",
      "Arrow On Swanston 3.0\n",
      "Assembly Hall 0\n",
      "Rod Laver Arena 4.7\n",
      "Melbourne Showgrounds 4.2\n",
      "West Space Inc 0\n",
      "Soho Restaurant and Bar 4.0\n",
      "The Metropolitan Hotel 0\n",
      "Ferdydurke 4.4\n",
      "The Hotel Windsor 4.3\n"
     ]
    }
   ],
   "source": [
    "score = []\n",
    "for index, row in df.iterrows():\n",
    "    urls = [SEARCH_URL + row['venue_address'], SEARCH_URL + row['venue_name']]\n",
    "    marker = True\n",
    "    ts = \"0\"\n",
    "    for url in urls:\n",
    "        driver.get(url)\n",
    "        page_content = driver.page_source\n",
    "        response = Selector(page_content)\n",
    "        el = response.xpath(path).getall()\n",
    "        if el != []:\n",
    "            [ts] = el\n",
    "    score.append(ts)\n",
    "    print(row['venue_name'], score[-1])       "
   ]
  },
  {
   "cell_type": "code",
   "execution_count": 7,
   "id": "f7709095",
   "metadata": {
    "ExecuteTime": {
     "end_time": "2022-10-12T08:15:13.380653Z",
     "start_time": "2022-10-12T08:15:13.365946Z"
    }
   },
   "outputs": [
    {
     "name": "stdout",
     "output_type": "stream",
     "text": [
      "['5.0', '4.5', '4.0', '4.4', '4.6', '4.4', '4.3', '0', '3.3', '4.0', '3.9', '4.6', '4.5', '3.8', '4.6', '3.5', '4.5', '3.0', '4.4', '4.4', '4.1', '4.3', '0', '4.7', '3.6', '4.2', '4.2', '3.3', '0', '4.7', '2.3', '4.5', '3.6', '4.6', '4.5', '4.5', '4.3', '4.4', '0', '4.8', '4.5', '4.1', '4.3', '4.4', '4.1', '4.5', '4.0', '3.9', '4.7', '0', '4.2', '4.4', '4.4', '0', '4.3', '4.4', '0', '4.2', '0', '0', '4.4', '4.0', '4.6', '0', '3.1', '0', '4.4', '4.5', '0', '0', '4.8', '4.1', '3.6', '4.7', '3.9', '4.0', '4.4', '0', '4.1', '4.2', '3.8', '0', '0', '4.3', '3.1', '4.5', '4.3', '4.3', '4.0', '3.9', '0', '4.3', '4.1', '3.9', '4.2', '4.4', '4.5', '4.5', '5.0', '0', '4.4', '3.4', '4.5', '4.6', '4.4', '4.2', '4.7', '0', '3.9', '4.2', '4.5', '4.6', '4.4', '4.4', '0', '4.4', '4.5', '4.1', '4.4', '4.7', '4.2', '4.4', '0', '4.4', '4.3', '4.3', '4.2', '4.4', '0', '3.9', '0', '4.6', '4.0', '4.1', '4.5', '4.5', '4.2', '0', '3.5', '4.2', '4.2', '3.1', '4.7', '0', '0', '4.1', '4.4', '4.4', '4.2', '4.6', '4.7', '4.3', '4.5', '4.7', '3.8', '4.0', '3.8', '4.4', '4.0', '4.5', '4.5', '3.8', '4.3', '0', '4.0', '0', '4.4', '0', '0', '4.7', '3.5', '4.6', '3.6', '0', '4.2', '3.7', '4.2', '0', '4.3', '4.1', '4.3', '0', '4.4', '0', '4.3', '4.1', '4.8', '4.6', '4.1', '4.6', '4.0', '4.4', '4.2', '4.5', '0', '4.4', '4.0', '3.6', '4.5', '4.9', '3.5', '4.0', '4.5', '4.3', '0', '4.2', '0', '4.3', '4.2', '4.1', '4.6', '0', '4.8', '4.6', '4.4', '4.2', '4.5', '4.6', '3.0', '0', '4.7', '4.2', '0', '4.0', '0', '4.4', '4.3']\n"
     ]
    }
   ],
   "source": [
    "print(score)\n",
    "\n",
    "df[\"review score\"] = score\n",
    "print(df.head())\n",
    "df.to_csv(\"Live_Music_Venues_review.csv\")"
   ]
  },
  {
   "cell_type": "code",
   "execution_count": 35,
   "id": "052c7775",
   "metadata": {
    "ExecuteTime": {
     "end_time": "2022-10-14T10:54:01.751948Z",
     "start_time": "2022-10-14T10:54:01.722892Z"
    }
   },
   "outputs": [
    {
     "name": "stdout",
     "output_type": "stream",
     "text": [
      "                Theme                                        Sub Theme  \\\n",
      "0           Transport                                  Railway Station   \n",
      "1           Mixed Use                            Retail/Office/Carpark   \n",
      "2   Place Of Assembly                                          Library   \n",
      "3  Leisure/Recreation  Informal Outdoor Facility (Park/Garden/Reserve)   \n",
      "4    Place of Worship                                           Church   \n",
      "\n",
      "                        Feature Name                           Co-ordinates  \\\n",
      "0  Flemington Bridge Railway Station  (-37.7881645889621, 144.939277838304)   \n",
      "1              Council House 2 (CH2)  (-37.8142591432011, 144.966638432727)   \n",
      "2    The Melbourne Athenaeum Library  (-37.8148855756416, 144.967291289941)   \n",
      "3              Carlton Gardens South  (-37.8060684577258, 144.971266479841)   \n",
      "4                  St Francis Church  (-37.8118847831837, 144.962422614541)   \n",
      "\n",
      "  review score  \n",
      "0          3.0  \n",
      "1          4.0  \n",
      "2          4.6  \n",
      "3            0  \n",
      "4          4.7  \n"
     ]
    }
   ],
   "source": [
    "df[\"review score\"] = score[0:242]\n",
    "print(df.head())\n",
    "df.to_csv(\"Landmarks_and_places_of_interest_review.csv\")"
   ]
  },
  {
   "cell_type": "code",
   "execution_count": 222,
   "id": "75aa0f9f",
   "metadata": {
    "ExecuteTime": {
     "end_time": "2022-10-12T06:08:41.866008Z",
     "start_time": "2022-10-12T06:08:41.423300Z"
    }
   },
   "outputs": [],
   "source": [
    "page_content = driver.page_source"
   ]
  },
  {
   "cell_type": "code",
   "execution_count": 14,
   "id": "10faf969",
   "metadata": {
    "ExecuteTime": {
     "end_time": "2022-10-12T07:38:23.838014Z",
     "start_time": "2022-10-12T07:38:23.816321Z"
    }
   },
   "outputs": [],
   "source": [
    "from parsel import Selector\n",
    "\n",
    "response = Selector(page_content)"
   ]
  },
  {
   "cell_type": "code",
   "execution_count": 15,
   "id": "114d9ab5",
   "metadata": {
    "ExecuteTime": {
     "end_time": "2022-10-12T07:38:25.016824Z",
     "start_time": "2022-10-12T07:38:24.999180Z"
    }
   },
   "outputs": [],
   "source": [
    "# path = '//div/div[@id=\"QA0Szd\"]/div[@jstcache=\"0\"]/div[@jstcache=\"17\"]/div[@class=\"w6VYqd\"]/div[@jstcache=\"6\"]'\n",
    "# path += '/div[@jstcache=\"38\"]/div[@tabindex=\"-1\"]/div[@jstcache=\"21\"]/div[@jstcache=\"764\"]'\n",
    "# path += '/div[@jstcache=\"784\"]/div[@jsaction=\"pane.reviewChart.moreReviews\"]'\n",
    "# path += '/div[@class=\"jANrlb\"]/div[@jstcache=\"464\"]/text()'"
   ]
  },
  {
   "cell_type": "code",
   "execution_count": 18,
   "id": "0a108982",
   "metadata": {
    "ExecuteTime": {
     "end_time": "2022-10-12T07:38:33.165837Z",
     "start_time": "2022-10-12T07:38:33.158574Z"
    }
   },
   "outputs": [],
   "source": [
    "path = '//div/div[@id=\"QA0Szd\"]/div[@jstcache=\"0\"]/div[@class=\"XltNde tTVLSc\"]/div[@class=\"w6VYqd\"]/div[@class=\"bJzME tTVLSc\"]'\n",
    "path += '/div[@class=\"k7jAl lJ3Kh miFGmb\"]/div[@class=\"e07Vkf kA9KIf\"]/div[@class=\"aIFcqe\"]/div[@class=\"m6QErb WNBkOb\"]'\n",
    "path += '/div[@class=\"PPCwl\"]/div[@jsaction=\"pane.reviewChart.moreReviews\"]'\n",
    "path += '/div[@class=\"jANrlb\"]/div[@class=\"fontDisplayLarge\"]/text()'"
   ]
  },
  {
   "cell_type": "code",
   "execution_count": 21,
   "id": "404d9510",
   "metadata": {
    "ExecuteTime": {
     "end_time": "2022-10-12T07:39:01.103137Z",
     "start_time": "2022-10-12T07:39:01.094091Z"
    }
   },
   "outputs": [
    {
     "name": "stdout",
     "output_type": "stream",
     "text": [
      "['3.9']\n"
     ]
    }
   ],
   "source": [
    "# results = []\n",
    "\n",
    "el = response.xpath(path).getall()\n",
    "print(el)\n",
    "#     results.append({\n",
    "#         'title': el.xpath('.//div[contains(@class, \"title\")]/span/text()').extract_first(''),\n",
    "#         'rating': el.xpath('.//span[contains(@aria-label, \"stars\")]/@aria-label').extract_first('').replace('stars' ,'').strip(),\n",
    "#         'body': el.xpath('.//span[contains(@class, \"text\")]/text()').extract_first(''),\n",
    "#     })\n",
    "\n",
    "# print(results)"
   ]
  },
  {
   "cell_type": "code",
   "execution_count": null,
   "id": "c94e22ac",
   "metadata": {},
   "outputs": [],
   "source": []
  },
  {
   "cell_type": "code",
   "execution_count": null,
   "id": "8f680c5d",
   "metadata": {},
   "outputs": [],
   "source": [
    "# from selenium import webdriver\n",
    "# from webdriver_manager.chrome import ChromeDriverManager\n",
    "# from selenium.webdriver.support.ui import WebDriverWait\n",
    "# from selenium.webdriver.common.action_chains import ActionChains\n",
    "# from selenium.webdriver.support import expected_conditions as EC\n",
    "# from selenium.common.exceptions import ElementNotVisibleException\n",
    "# from selenium.webdriver.common.by import By\n",
    "# from selenium.common.exceptions import TimeoutException\n",
    "# from bs4 import BeautifulSoup\n",
    "  \n",
    "# driver = webdriver.Chrome(ChromeDriverManager().install())\n",
    "  \n",
    "  \n",
    "# driver.maximize_window()\n",
    "# driver.implicitly_wait(30)\n",
    "  \n",
    "# # Either we can hard code or can get via input.\n",
    "# # The given input should be a valid one\n",
    "# location = \"State Library Victoria\"\n",
    "# print(\"Search By \")\n",
    "# print(\"1.Book shops\")\n",
    "# print(\"2.Food\")\n",
    "# print(\"3.Temples\")\n",
    "# print(\"4.Exit\")\n",
    "# ch = \"Y\"\n",
    "  \n",
    "# while (ch.upper() == 'Y'):\n",
    "#     choice = input(\"Enter choice(1/2/3/4):\")\n",
    "      \n",
    "#     if (choice == '1'):\n",
    "#         query = \"book shops  near \" + location\n",
    "          \n",
    "#     if (choice == '2'):\n",
    "#         query = \"food  near \" + location\n",
    "          \n",
    "#     if (choice == '3'):\n",
    "#         query = \"temples  near \" + location\n",
    "          \n",
    "#     driver.get(\"https://www.google.com/search?q=\" + query)\n",
    "#     wait = WebDriverWait(driver, 10)\n",
    "#     ActionChains(driver).move_to_element(wait.until(EC.element_to_be_clickable(\n",
    "#         (By.XPATH, \"//a[contains(@href, '/search?tbs')]\")))).perform()\n",
    "#     wait.until(EC.element_to_be_clickable(\n",
    "#         (By.XPATH, \"//a[contains(@href, '/search?tbs')]\"))).click()\n",
    "#     names = []\n",
    "      \n",
    "#     for name in driver.find_elements(By.XPATH, \"//div[@aria-level='3']\"):\n",
    "#         names.append(name.text)\n",
    "#     print(names)\n",
    "  \n",
    "#     ch = input(\"Do you want to continue (Y/N): \")"
   ]
  }
 ],
 "metadata": {
  "kernelspec": {
   "display_name": "Python 3 (ipykernel)",
   "language": "python",
   "name": "python3"
  },
  "language_info": {
   "codemirror_mode": {
    "name": "ipython",
    "version": 3
   },
   "file_extension": ".py",
   "mimetype": "text/x-python",
   "name": "python",
   "nbconvert_exporter": "python",
   "pygments_lexer": "ipython3",
   "version": "3.7.13"
  },
  "latex_envs": {
   "LaTeX_envs_menu_present": true,
   "autoclose": false,
   "autocomplete": true,
   "bibliofile": "biblio.bib",
   "cite_by": "apalike",
   "current_citInitial": 1,
   "eqLabelWithNumbers": true,
   "eqNumInitial": 1,
   "hotkeys": {
    "equation": "Ctrl-E",
    "itemize": "Ctrl-I"
   },
   "labels_anchors": false,
   "latex_user_defs": false,
   "report_style_numbering": false,
   "user_envs_cfg": false
  },
  "toc": {
   "base_numbering": 1,
   "nav_menu": {},
   "number_sections": true,
   "sideBar": true,
   "skip_h1_title": false,
   "title_cell": "Table of Contents",
   "title_sidebar": "Contents",
   "toc_cell": false,
   "toc_position": {},
   "toc_section_display": true,
   "toc_window_display": false
  },
  "varInspector": {
   "cols": {
    "lenName": 16,
    "lenType": 16,
    "lenVar": 40
   },
   "kernels_config": {
    "python": {
     "delete_cmd_postfix": "",
     "delete_cmd_prefix": "del ",
     "library": "var_list.py",
     "varRefreshCmd": "print(var_dic_list())"
    },
    "r": {
     "delete_cmd_postfix": ") ",
     "delete_cmd_prefix": "rm(",
     "library": "var_list.r",
     "varRefreshCmd": "cat(var_dic_list()) "
    }
   },
   "types_to_exclude": [
    "module",
    "function",
    "builtin_function_or_method",
    "instance",
    "_Feature"
   ],
   "window_display": false
  }
 },
 "nbformat": 4,
 "nbformat_minor": 5
}
