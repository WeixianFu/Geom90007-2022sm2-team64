{
 "cells": [
  {
   "cell_type": "code",
   "execution_count": 5,
   "id": "5390382c",
   "metadata": {
    "ExecuteTime": {
     "end_time": "2022-10-19T02:39:00.078550Z",
     "start_time": "2022-10-19T02:39:00.069037Z"
    }
   },
   "outputs": [],
   "source": [
    "import numpy as np\n",
    "import pandas as pd\n",
    "import random"
   ]
  },
  {
   "cell_type": "code",
   "execution_count": 3,
   "id": "8858f795",
   "metadata": {
    "ExecuteTime": {
     "end_time": "2022-10-19T02:37:34.104021Z",
     "start_time": "2022-10-19T02:37:34.066789Z"
    }
   },
   "outputs": [],
   "source": [
    "df = pd.read_csv(\"Landmarks_and_places_of_interest_review.csv\")"
   ]
  },
  {
   "cell_type": "code",
   "execution_count": 22,
   "id": "c8359ff9",
   "metadata": {
    "ExecuteTime": {
     "end_time": "2022-10-19T02:50:20.104756Z",
     "start_time": "2022-10-19T02:50:20.092622Z"
    }
   },
   "outputs": [],
   "source": [
    "def fake_review(a):\n",
    "    if a != 0:\n",
    "        return a\n",
    "    return round(random.random()*2+3,1)"
   ]
  },
  {
   "cell_type": "code",
   "execution_count": 26,
   "id": "cee39bc4",
   "metadata": {
    "ExecuteTime": {
     "end_time": "2022-10-19T02:50:44.476040Z",
     "start_time": "2022-10-19T02:50:44.463395Z"
    }
   },
   "outputs": [],
   "source": [
    "df[\"review score\"] = df[\"review score\"].apply(fake_review)"
   ]
  },
  {
   "cell_type": "code",
   "execution_count": 29,
   "id": "782b7198",
   "metadata": {
    "ExecuteTime": {
     "end_time": "2022-10-19T02:51:01.363035Z",
     "start_time": "2022-10-19T02:51:01.306974Z"
    }
   },
   "outputs": [
    {
     "data": {
      "text/html": [
       "<div>\n",
       "<style scoped>\n",
       "    .dataframe tbody tr th:only-of-type {\n",
       "        vertical-align: middle;\n",
       "    }\n",
       "\n",
       "    .dataframe tbody tr th {\n",
       "        vertical-align: top;\n",
       "    }\n",
       "\n",
       "    .dataframe thead th {\n",
       "        text-align: right;\n",
       "    }\n",
       "</style>\n",
       "<table border=\"1\" class=\"dataframe\">\n",
       "  <thead>\n",
       "    <tr style=\"text-align: right;\">\n",
       "      <th></th>\n",
       "      <th>Unnamed: 0</th>\n",
       "      <th>Theme</th>\n",
       "      <th>Sub Theme</th>\n",
       "      <th>Feature Name</th>\n",
       "      <th>Co-ordinates</th>\n",
       "      <th>review score</th>\n",
       "      <th>Review score</th>\n",
       "    </tr>\n",
       "  </thead>\n",
       "  <tbody>\n",
       "    <tr>\n",
       "      <th>0</th>\n",
       "      <td>0</td>\n",
       "      <td>Transport</td>\n",
       "      <td>Railway Station</td>\n",
       "      <td>Flemington Bridge Railway Station</td>\n",
       "      <td>(-37.7881645889621, 144.939277838304)</td>\n",
       "      <td>3.0</td>\n",
       "      <td>3.0</td>\n",
       "    </tr>\n",
       "    <tr>\n",
       "      <th>1</th>\n",
       "      <td>1</td>\n",
       "      <td>Mixed Use</td>\n",
       "      <td>Retail/Office/Carpark</td>\n",
       "      <td>Council House 2 (CH2)</td>\n",
       "      <td>(-37.8142591432011, 144.966638432727)</td>\n",
       "      <td>4.0</td>\n",
       "      <td>4.0</td>\n",
       "    </tr>\n",
       "    <tr>\n",
       "      <th>2</th>\n",
       "      <td>2</td>\n",
       "      <td>Place Of Assembly</td>\n",
       "      <td>Library</td>\n",
       "      <td>The Melbourne Athenaeum Library</td>\n",
       "      <td>(-37.8148855756416, 144.967291289941)</td>\n",
       "      <td>4.6</td>\n",
       "      <td>4.6</td>\n",
       "    </tr>\n",
       "    <tr>\n",
       "      <th>3</th>\n",
       "      <td>3</td>\n",
       "      <td>Leisure/Recreation</td>\n",
       "      <td>Informal Outdoor Facility (Park/Garden/Reserve)</td>\n",
       "      <td>Carlton Gardens South</td>\n",
       "      <td>(-37.8060684577258, 144.971266479841)</td>\n",
       "      <td>4.5</td>\n",
       "      <td>4.6</td>\n",
       "    </tr>\n",
       "    <tr>\n",
       "      <th>4</th>\n",
       "      <td>4</td>\n",
       "      <td>Place of Worship</td>\n",
       "      <td>Church</td>\n",
       "      <td>St Francis Church</td>\n",
       "      <td>(-37.8118847831837, 144.962422614541)</td>\n",
       "      <td>4.7</td>\n",
       "      <td>4.7</td>\n",
       "    </tr>\n",
       "    <tr>\n",
       "      <th>5</th>\n",
       "      <td>5</td>\n",
       "      <td>Place of Worship</td>\n",
       "      <td>Church</td>\n",
       "      <td>Wesley Church</td>\n",
       "      <td>(-37.8101576446961, 144.968168215633)</td>\n",
       "      <td>4.4</td>\n",
       "      <td>4.4</td>\n",
       "    </tr>\n",
       "    <tr>\n",
       "      <th>6</th>\n",
       "      <td>6</td>\n",
       "      <td>Place of Worship</td>\n",
       "      <td>Church</td>\n",
       "      <td>St Augustines Church</td>\n",
       "      <td>(-37.8169741358546, 144.954862000132)</td>\n",
       "      <td>4.7</td>\n",
       "      <td>4.7</td>\n",
       "    </tr>\n",
       "    <tr>\n",
       "      <th>7</th>\n",
       "      <td>7</td>\n",
       "      <td>Place of Worship</td>\n",
       "      <td>Church</td>\n",
       "      <td>St James Church</td>\n",
       "      <td>(-37.8101281201969, 144.952468571683)</td>\n",
       "      <td>3.9</td>\n",
       "      <td>4.0</td>\n",
       "    </tr>\n",
       "    <tr>\n",
       "      <th>8</th>\n",
       "      <td>8</td>\n",
       "      <td>Place of Worship</td>\n",
       "      <td>Church</td>\n",
       "      <td>St Mary's Anglican Church</td>\n",
       "      <td>(-37.8031663672997, 144.953761537074)</td>\n",
       "      <td>3.3</td>\n",
       "      <td>3.5</td>\n",
       "    </tr>\n",
       "    <tr>\n",
       "      <th>9</th>\n",
       "      <td>9</td>\n",
       "      <td>Place of Worship</td>\n",
       "      <td>Church</td>\n",
       "      <td>Romanian Orthodox</td>\n",
       "      <td>(-37.8052307297468, 144.966986444597)</td>\n",
       "      <td>4.5</td>\n",
       "      <td>4.9</td>\n",
       "    </tr>\n",
       "    <tr>\n",
       "      <th>10</th>\n",
       "      <td>10</td>\n",
       "      <td>Place of Worship</td>\n",
       "      <td>Church</td>\n",
       "      <td>Welsh Presbyterian Church</td>\n",
       "      <td>(-37.8104478768313, 144.959873260087)</td>\n",
       "      <td>4.0</td>\n",
       "      <td>4.7</td>\n",
       "    </tr>\n",
       "    <tr>\n",
       "      <th>11</th>\n",
       "      <td>11</td>\n",
       "      <td>Place of Worship</td>\n",
       "      <td>Church</td>\n",
       "      <td>Church of Christ</td>\n",
       "      <td>(-37.8104524079085, 144.96388920294)</td>\n",
       "      <td>3.8</td>\n",
       "      <td>4.6</td>\n",
       "    </tr>\n",
       "    <tr>\n",
       "      <th>12</th>\n",
       "      <td>12</td>\n",
       "      <td>Place of Worship</td>\n",
       "      <td>Church</td>\n",
       "      <td>Scots Church</td>\n",
       "      <td>(-37.8145687802664, 144.96855105335)</td>\n",
       "      <td>4.6</td>\n",
       "      <td>4.6</td>\n",
       "    </tr>\n",
       "    <tr>\n",
       "      <th>13</th>\n",
       "      <td>13</td>\n",
       "      <td>Place of Worship</td>\n",
       "      <td>Church</td>\n",
       "      <td>St Michael's Uniting Church</td>\n",
       "      <td>(-37.8143851324913, 144.969174036096)</td>\n",
       "      <td>4.5</td>\n",
       "      <td>4.5</td>\n",
       "    </tr>\n",
       "    <tr>\n",
       "      <th>14</th>\n",
       "      <td>14</td>\n",
       "      <td>Place of Worship</td>\n",
       "      <td>Church</td>\n",
       "      <td>Greek Orthodox Church</td>\n",
       "      <td>(-37.8088064667555, 144.978259089269)</td>\n",
       "      <td>3.9</td>\n",
       "      <td>3.1</td>\n",
       "    </tr>\n",
       "  </tbody>\n",
       "</table>\n",
       "</div>"
      ],
      "text/plain": [
       "    Unnamed: 0               Theme  ... review score Review score\n",
       "0            0           Transport  ...          3.0          3.0\n",
       "1            1           Mixed Use  ...          4.0          4.0\n",
       "2            2   Place Of Assembly  ...          4.6          4.6\n",
       "3            3  Leisure/Recreation  ...          4.5          4.6\n",
       "4            4    Place of Worship  ...          4.7          4.7\n",
       "5            5    Place of Worship  ...          4.4          4.4\n",
       "6            6    Place of Worship  ...          4.7          4.7\n",
       "7            7    Place of Worship  ...          3.9          4.0\n",
       "8            8    Place of Worship  ...          3.3          3.5\n",
       "9            9    Place of Worship  ...          4.5          4.9\n",
       "10          10    Place of Worship  ...          4.0          4.7\n",
       "11          11    Place of Worship  ...          3.8          4.6\n",
       "12          12    Place of Worship  ...          4.6          4.6\n",
       "13          13    Place of Worship  ...          4.5          4.5\n",
       "14          14    Place of Worship  ...          3.9          3.1\n",
       "\n",
       "[15 rows x 7 columns]"
      ]
     },
     "execution_count": 29,
     "metadata": {},
     "output_type": "execute_result"
    }
   ],
   "source": [
    "df.head(15)"
   ]
  },
  {
   "cell_type": "code",
   "execution_count": 30,
   "id": "02380896",
   "metadata": {
    "ExecuteTime": {
     "end_time": "2022-10-19T02:51:37.354053Z",
     "start_time": "2022-10-19T02:51:37.299872Z"
    }
   },
   "outputs": [],
   "source": [
    "df.to_csv(\"Landmarks_and_places_of_interest_review.csv\")"
   ]
  },
  {
   "cell_type": "code",
   "execution_count": null,
   "id": "f15a89fd",
   "metadata": {},
   "outputs": [],
   "source": []
  },
  {
   "cell_type": "code",
   "execution_count": null,
   "id": "7066f403",
   "metadata": {},
   "outputs": [],
   "source": []
  }
 ],
 "metadata": {
  "kernelspec": {
   "display_name": "Python 3 (ipykernel)",
   "language": "python",
   "name": "python3"
  },
  "language_info": {
   "codemirror_mode": {
    "name": "ipython",
    "version": 3
   },
   "file_extension": ".py",
   "mimetype": "text/x-python",
   "name": "python",
   "nbconvert_exporter": "python",
   "pygments_lexer": "ipython3",
   "version": "3.7.13"
  },
  "latex_envs": {
   "LaTeX_envs_menu_present": true,
   "autoclose": false,
   "autocomplete": true,
   "bibliofile": "biblio.bib",
   "cite_by": "apalike",
   "current_citInitial": 1,
   "eqLabelWithNumbers": true,
   "eqNumInitial": 1,
   "hotkeys": {
    "equation": "Ctrl-E",
    "itemize": "Ctrl-I"
   },
   "labels_anchors": false,
   "latex_user_defs": false,
   "report_style_numbering": false,
   "user_envs_cfg": false
  },
  "toc": {
   "base_numbering": 1,
   "nav_menu": {},
   "number_sections": true,
   "sideBar": true,
   "skip_h1_title": false,
   "title_cell": "Table of Contents",
   "title_sidebar": "Contents",
   "toc_cell": false,
   "toc_position": {},
   "toc_section_display": true,
   "toc_window_display": false
  },
  "varInspector": {
   "cols": {
    "lenName": 16,
    "lenType": 16,
    "lenVar": 40
   },
   "kernels_config": {
    "python": {
     "delete_cmd_postfix": "",
     "delete_cmd_prefix": "del ",
     "library": "var_list.py",
     "varRefreshCmd": "print(var_dic_list())"
    },
    "r": {
     "delete_cmd_postfix": ") ",
     "delete_cmd_prefix": "rm(",
     "library": "var_list.r",
     "varRefreshCmd": "cat(var_dic_list()) "
    }
   },
   "types_to_exclude": [
    "module",
    "function",
    "builtin_function_or_method",
    "instance",
    "_Feature"
   ],
   "window_display": false
  }
 },
 "nbformat": 4,
 "nbformat_minor": 5
}
